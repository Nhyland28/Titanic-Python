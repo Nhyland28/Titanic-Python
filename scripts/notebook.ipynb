{
 "cells": [
  {
   "cell_type": "markdown",
   "metadata": {},
   "source": [
    "## Kaggle's *Titanic: Machine Learning from Disaster Competition*"
   ]
  },
  {
   "cell_type": "code",
   "execution_count": 327,
   "metadata": {},
   "outputs": [],
   "source": [
    "import numpy as np\n",
    "import matplotlib.pyplot as plt\n",
    "import pandas as pd\n",
    "import seaborn as sns"
   ]
  },
  {
   "cell_type": "code",
   "execution_count": 328,
   "metadata": {},
   "outputs": [],
   "source": [
    "training = pd.read_csv('/Users/Nick/Data_Science/Kaggle/titanic_python/data/train.csv')\n",
    "testing = pd.read_csv('/Users/Nick/Data_Science/Kaggle/titanic_python/data/test.csv')\n",
    "\n",
    "# Create the Survived column for the testing data (not included in the downloaded set)\n",
    "testing['Survived'] = np.nan\n",
    "\n",
    "# Create a dummy variable to show if the data is training or testing data\n",
    "testing['training'] = False\n",
    "training['training'] = True\n",
    "\n",
    "# Combine the training and testing data for data exploration\n",
    "full = training.append(testing, sort=True)\n",
    "\n",
    "# Clean dataframes\n",
    "full.columns = full.columns.str.lower()\n",
    "full.reset_index(drop=True, inplace=True)"
   ]
  },
  {
   "cell_type": "markdown",
   "metadata": {},
   "source": [
    "Now that the data is downloaded let us start by doing some basic exploration of our full dataframe. First, let us look at the data types of our variables and see where missing values are."
   ]
  },
  {
   "cell_type": "code",
   "execution_count": 329,
   "metadata": {},
   "outputs": [
    {
     "data": {
      "text/html": [
       "<div>\n",
       "<style scoped>\n",
       "    .dataframe tbody tr th:only-of-type {\n",
       "        vertical-align: middle;\n",
       "    }\n",
       "\n",
       "    .dataframe tbody tr th {\n",
       "        vertical-align: top;\n",
       "    }\n",
       "\n",
       "    .dataframe thead th {\n",
       "        text-align: right;\n",
       "    }\n",
       "</style>\n",
       "<table border=\"1\" class=\"dataframe\">\n",
       "  <thead>\n",
       "    <tr style=\"text-align: right;\">\n",
       "      <th></th>\n",
       "      <th>age</th>\n",
       "      <th>cabin</th>\n",
       "      <th>embarked</th>\n",
       "      <th>fare</th>\n",
       "      <th>name</th>\n",
       "      <th>parch</th>\n",
       "      <th>passengerid</th>\n",
       "      <th>pclass</th>\n",
       "      <th>sex</th>\n",
       "      <th>sibsp</th>\n",
       "      <th>survived</th>\n",
       "      <th>ticket</th>\n",
       "      <th>training</th>\n",
       "    </tr>\n",
       "  </thead>\n",
       "  <tbody>\n",
       "    <tr>\n",
       "      <th>0</th>\n",
       "      <td>22.0</td>\n",
       "      <td>NaN</td>\n",
       "      <td>S</td>\n",
       "      <td>7.2500</td>\n",
       "      <td>Braund, Mr. Owen Harris</td>\n",
       "      <td>0</td>\n",
       "      <td>1</td>\n",
       "      <td>3</td>\n",
       "      <td>male</td>\n",
       "      <td>1</td>\n",
       "      <td>0.0</td>\n",
       "      <td>A/5 21171</td>\n",
       "      <td>True</td>\n",
       "    </tr>\n",
       "    <tr>\n",
       "      <th>1</th>\n",
       "      <td>38.0</td>\n",
       "      <td>C85</td>\n",
       "      <td>C</td>\n",
       "      <td>71.2833</td>\n",
       "      <td>Cumings, Mrs. John Bradley (Florence Briggs Th...</td>\n",
       "      <td>0</td>\n",
       "      <td>2</td>\n",
       "      <td>1</td>\n",
       "      <td>female</td>\n",
       "      <td>1</td>\n",
       "      <td>1.0</td>\n",
       "      <td>PC 17599</td>\n",
       "      <td>True</td>\n",
       "    </tr>\n",
       "    <tr>\n",
       "      <th>2</th>\n",
       "      <td>26.0</td>\n",
       "      <td>NaN</td>\n",
       "      <td>S</td>\n",
       "      <td>7.9250</td>\n",
       "      <td>Heikkinen, Miss. Laina</td>\n",
       "      <td>0</td>\n",
       "      <td>3</td>\n",
       "      <td>3</td>\n",
       "      <td>female</td>\n",
       "      <td>0</td>\n",
       "      <td>1.0</td>\n",
       "      <td>STON/O2. 3101282</td>\n",
       "      <td>True</td>\n",
       "    </tr>\n",
       "    <tr>\n",
       "      <th>3</th>\n",
       "      <td>35.0</td>\n",
       "      <td>C123</td>\n",
       "      <td>S</td>\n",
       "      <td>53.1000</td>\n",
       "      <td>Futrelle, Mrs. Jacques Heath (Lily May Peel)</td>\n",
       "      <td>0</td>\n",
       "      <td>4</td>\n",
       "      <td>1</td>\n",
       "      <td>female</td>\n",
       "      <td>1</td>\n",
       "      <td>1.0</td>\n",
       "      <td>113803</td>\n",
       "      <td>True</td>\n",
       "    </tr>\n",
       "    <tr>\n",
       "      <th>4</th>\n",
       "      <td>35.0</td>\n",
       "      <td>NaN</td>\n",
       "      <td>S</td>\n",
       "      <td>8.0500</td>\n",
       "      <td>Allen, Mr. William Henry</td>\n",
       "      <td>0</td>\n",
       "      <td>5</td>\n",
       "      <td>3</td>\n",
       "      <td>male</td>\n",
       "      <td>0</td>\n",
       "      <td>0.0</td>\n",
       "      <td>373450</td>\n",
       "      <td>True</td>\n",
       "    </tr>\n",
       "  </tbody>\n",
       "</table>\n",
       "</div>"
      ],
      "text/plain": [
       "    age cabin embarked     fare  \\\n",
       "0  22.0   NaN        S   7.2500   \n",
       "1  38.0   C85        C  71.2833   \n",
       "2  26.0   NaN        S   7.9250   \n",
       "3  35.0  C123        S  53.1000   \n",
       "4  35.0   NaN        S   8.0500   \n",
       "\n",
       "                                                name  parch  passengerid  \\\n",
       "0                            Braund, Mr. Owen Harris      0            1   \n",
       "1  Cumings, Mrs. John Bradley (Florence Briggs Th...      0            2   \n",
       "2                             Heikkinen, Miss. Laina      0            3   \n",
       "3       Futrelle, Mrs. Jacques Heath (Lily May Peel)      0            4   \n",
       "4                           Allen, Mr. William Henry      0            5   \n",
       "\n",
       "   pclass     sex  sibsp  survived            ticket  training  \n",
       "0       3    male      1       0.0         A/5 21171      True  \n",
       "1       1  female      1       1.0          PC 17599      True  \n",
       "2       3  female      0       1.0  STON/O2. 3101282      True  \n",
       "3       1  female      1       1.0            113803      True  \n",
       "4       3    male      0       0.0            373450      True  "
      ]
     },
     "execution_count": 329,
     "metadata": {},
     "output_type": "execute_result"
    }
   ],
   "source": [
    "full.head()"
   ]
  },
  {
   "cell_type": "code",
   "execution_count": 330,
   "metadata": {},
   "outputs": [
    {
     "data": {
      "text/plain": [
       "age            float64\n",
       "cabin           object\n",
       "embarked        object\n",
       "fare           float64\n",
       "name            object\n",
       "parch            int64\n",
       "passengerid      int64\n",
       "pclass           int64\n",
       "sex             object\n",
       "sibsp            int64\n",
       "survived       float64\n",
       "ticket          object\n",
       "training          bool\n",
       "dtype: object"
      ]
     },
     "execution_count": 330,
     "metadata": {},
     "output_type": "execute_result"
    }
   ],
   "source": [
    "full.dtypes"
   ]
  },
  {
   "cell_type": "code",
   "execution_count": 331,
   "metadata": {},
   "outputs": [
    {
     "data": {
      "text/plain": [
       "age             263\n",
       "cabin          1014\n",
       "embarked          2\n",
       "fare              1\n",
       "name              0\n",
       "parch             0\n",
       "passengerid       0\n",
       "pclass            0\n",
       "sex               0\n",
       "sibsp             0\n",
       "survived        418\n",
       "ticket            0\n",
       "training          0\n",
       "dtype: int64"
      ]
     },
     "execution_count": 331,
     "metadata": {},
     "output_type": "execute_result"
    }
   ],
   "source": [
    "full.isna().sum()"
   ]
  },
  {
   "cell_type": "code",
   "execution_count": 332,
   "metadata": {},
   "outputs": [
    {
     "data": {
      "text/plain": [
       "age            0.200917\n",
       "cabin          0.774637\n",
       "embarked       0.001528\n",
       "fare           0.000764\n",
       "name           0.000000\n",
       "parch          0.000000\n",
       "passengerid    0.000000\n",
       "pclass         0.000000\n",
       "sex            0.000000\n",
       "sibsp          0.000000\n",
       "survived       0.319328\n",
       "ticket         0.000000\n",
       "training       0.000000\n",
       "dtype: float64"
      ]
     },
     "execution_count": 332,
     "metadata": {},
     "output_type": "execute_result"
    }
   ],
   "source": [
    "full.isna().mean()"
   ]
  },
  {
   "cell_type": "markdown",
   "metadata": {},
   "source": [
    "Looking at the missing values in our dataframe we see the highest value is 'cabin' at 1014 missing values. This accounts for around 77%. To keep things simple, we will just drop this feature from our dataframe.\n",
    "\n",
    "The 'survived' feature has the most missing values at 418 (~32%). This makes sense as we created the missing values in the previous code block since the testing data from Kaggle did not have a 'survived' variable.  \n",
    "\n",
    "Next, 'age' has 263 missing values (20%). Age is definitely something we will want to include in our model. Later, we will use an imputation function from Scikit-Learn to fill the missing values.\n",
    "\n",
    "Finally, we have 2 missing values for the embarked location and 1 missing value for the fare value. Let's first take a look at the 2 missing values for the embarked location."
   ]
  },
  {
   "cell_type": "code",
   "execution_count": 333,
   "metadata": {},
   "outputs": [
    {
     "data": {
      "text/html": [
       "<div>\n",
       "<style scoped>\n",
       "    .dataframe tbody tr th:only-of-type {\n",
       "        vertical-align: middle;\n",
       "    }\n",
       "\n",
       "    .dataframe tbody tr th {\n",
       "        vertical-align: top;\n",
       "    }\n",
       "\n",
       "    .dataframe thead th {\n",
       "        text-align: right;\n",
       "    }\n",
       "</style>\n",
       "<table border=\"1\" class=\"dataframe\">\n",
       "  <thead>\n",
       "    <tr style=\"text-align: right;\">\n",
       "      <th></th>\n",
       "      <th>age</th>\n",
       "      <th>cabin</th>\n",
       "      <th>embarked</th>\n",
       "      <th>fare</th>\n",
       "      <th>name</th>\n",
       "      <th>parch</th>\n",
       "      <th>passengerid</th>\n",
       "      <th>pclass</th>\n",
       "      <th>sex</th>\n",
       "      <th>sibsp</th>\n",
       "      <th>survived</th>\n",
       "      <th>ticket</th>\n",
       "      <th>training</th>\n",
       "    </tr>\n",
       "  </thead>\n",
       "  <tbody>\n",
       "    <tr>\n",
       "      <th>61</th>\n",
       "      <td>38.0</td>\n",
       "      <td>B28</td>\n",
       "      <td>NaN</td>\n",
       "      <td>80.0</td>\n",
       "      <td>Icard, Miss. Amelie</td>\n",
       "      <td>0</td>\n",
       "      <td>62</td>\n",
       "      <td>1</td>\n",
       "      <td>female</td>\n",
       "      <td>0</td>\n",
       "      <td>1.0</td>\n",
       "      <td>113572</td>\n",
       "      <td>True</td>\n",
       "    </tr>\n",
       "    <tr>\n",
       "      <th>829</th>\n",
       "      <td>62.0</td>\n",
       "      <td>B28</td>\n",
       "      <td>NaN</td>\n",
       "      <td>80.0</td>\n",
       "      <td>Stone, Mrs. George Nelson (Martha Evelyn)</td>\n",
       "      <td>0</td>\n",
       "      <td>830</td>\n",
       "      <td>1</td>\n",
       "      <td>female</td>\n",
       "      <td>0</td>\n",
       "      <td>1.0</td>\n",
       "      <td>113572</td>\n",
       "      <td>True</td>\n",
       "    </tr>\n",
       "  </tbody>\n",
       "</table>\n",
       "</div>"
      ],
      "text/plain": [
       "      age cabin embarked  fare                                       name  \\\n",
       "61   38.0   B28      NaN  80.0                        Icard, Miss. Amelie   \n",
       "829  62.0   B28      NaN  80.0  Stone, Mrs. George Nelson (Martha Evelyn)   \n",
       "\n",
       "     parch  passengerid  pclass     sex  sibsp  survived  ticket  training  \n",
       "61       0           62       1  female      0       1.0  113572      True  \n",
       "829      0          830       1  female      0       1.0  113572      True  "
      ]
     },
     "execution_count": 333,
     "metadata": {},
     "output_type": "execute_result"
    }
   ],
   "source": [
    "full[full.embarked.isna()]"
   ]
  },
  {
   "cell_type": "markdown",
   "metadata": {},
   "source": [
    "Miss Amelie Icard and Mrs. Martha Evelyn Stone are missing their embarked location. According to some research, Miss Icard was Mrs. Stone's personal maid and they boarded together at Southampton."
   ]
  },
  {
   "cell_type": "code",
   "execution_count": 334,
   "metadata": {},
   "outputs": [],
   "source": [
    "full.loc[full.embarked.isna() == True, 'embarked'] = 'S'"
   ]
  },
  {
   "cell_type": "code",
   "execution_count": 335,
   "metadata": {},
   "outputs": [
    {
     "data": {
      "text/html": [
       "<div>\n",
       "<style scoped>\n",
       "    .dataframe tbody tr th:only-of-type {\n",
       "        vertical-align: middle;\n",
       "    }\n",
       "\n",
       "    .dataframe tbody tr th {\n",
       "        vertical-align: top;\n",
       "    }\n",
       "\n",
       "    .dataframe thead th {\n",
       "        text-align: right;\n",
       "    }\n",
       "</style>\n",
       "<table border=\"1\" class=\"dataframe\">\n",
       "  <thead>\n",
       "    <tr style=\"text-align: right;\">\n",
       "      <th></th>\n",
       "      <th>age</th>\n",
       "      <th>cabin</th>\n",
       "      <th>embarked</th>\n",
       "      <th>fare</th>\n",
       "      <th>name</th>\n",
       "      <th>parch</th>\n",
       "      <th>passengerid</th>\n",
       "      <th>pclass</th>\n",
       "      <th>sex</th>\n",
       "      <th>sibsp</th>\n",
       "      <th>survived</th>\n",
       "      <th>ticket</th>\n",
       "      <th>training</th>\n",
       "    </tr>\n",
       "  </thead>\n",
       "  <tbody>\n",
       "    <tr>\n",
       "      <th>1043</th>\n",
       "      <td>60.5</td>\n",
       "      <td>NaN</td>\n",
       "      <td>S</td>\n",
       "      <td>NaN</td>\n",
       "      <td>Storey, Mr. Thomas</td>\n",
       "      <td>0</td>\n",
       "      <td>1044</td>\n",
       "      <td>3</td>\n",
       "      <td>male</td>\n",
       "      <td>0</td>\n",
       "      <td>NaN</td>\n",
       "      <td>3701</td>\n",
       "      <td>False</td>\n",
       "    </tr>\n",
       "  </tbody>\n",
       "</table>\n",
       "</div>"
      ],
      "text/plain": [
       "       age cabin embarked  fare                name  parch  passengerid  \\\n",
       "1043  60.5   NaN        S   NaN  Storey, Mr. Thomas      0         1044   \n",
       "\n",
       "      pclass   sex  sibsp  survived ticket  training  \n",
       "1043       3  male      0       NaN   3701     False  "
      ]
     },
     "execution_count": 335,
     "metadata": {},
     "output_type": "execute_result"
    }
   ],
   "source": [
    "full[full.fare.isna() == True]"
   ]
  },
  {
   "cell_type": "markdown",
   "metadata": {},
   "source": [
    "As shown above, the fare infomration for Mr. Thomas Storey is missing. After some research it appears that Mr. Storey was a member of the ship's crew who boarded in Southampton. Let us look at  similar passengers (single males who boarded at Southhampton) to gather an idea of what a likely ticket price Thomas would've paid."
   ]
  },
  {
   "cell_type": "code",
   "execution_count": 336,
   "metadata": {},
   "outputs": [
    {
     "data": {
      "image/png": "[encoded data removed]",
      "text/plain": [
       "<Figure size 432x288 with 1 Axes>"
      ]
     },
     "metadata": {
      "needs_background": "light"
     },
     "output_type": "display_data"
    },
    {
     "name": "stdout",
     "output_type": "stream",
     "text": [
      "The median fare for passengers similar to Thomas: 7.8875\n",
      "The mean fare for passengers similar to Thomas: 9.249917789757417\n"
     ]
    }
   ],
   "source": [
    "similar_passengers = full[(full.sex == 'male') & (full.parch == 0) & (full.sibsp == 0) & (full.pclass == 3)]\n",
    "sns.violinplot(x='fare', data=similar_passengers)\n",
    "plt.show()\n",
    "similar_passengers_median = similar_passengers.fare.median()\n",
    "print('The median fare for passengers similar to Thomas: ' + str(similar_passengers_median))\n",
    "similar_passengers_mean = similar_passengers.fare.mean()\n",
    "print('The mean fare for passengers similar to Thomas: ' + str(similar_passengers_mean))"
   ]
  },
  {
   "cell_type": "markdown",
   "metadata": {},
   "source": [
    "The above violin plot shows that for passengers of a similar class, boarding, travel companions, and sex to Thomas the distributions of fares is heavily concentrated under 10, but has some outliers (perhaps last-second purchases). As such, we will use the median for Thomas's fare. The mean/average is skewed by those significantly higher prices."
   ]
  },
  {
   "cell_type": "code",
   "execution_count": 337,
   "metadata": {},
   "outputs": [],
   "source": [
    "full.loc[full.fare.isna() == True, 'fare'] = similar_passengers_median"
   ]
  },
  {
   "cell_type": "markdown",
   "metadata": {},
   "source": [
    "Next, let us create some new features. One feature that potentially has some useful information in it is the 'name' column. Each name possesses a title/salutation that we can extract out."
   ]
  },
  {
   "cell_type": "code",
   "execution_count": 338,
   "metadata": {},
   "outputs": [
    {
     "data": {
      "text/plain": [
       "Mr          757\n",
       "Miss        260\n",
       "Mrs         197\n",
       "Master       61\n",
       "Rev           8\n",
       "Dr            8\n",
       "Col           4\n",
       "Major         2\n",
       "Ms            2\n",
       "Mlle          2\n",
       "Mme           1\n",
       "Countess      1\n",
       "Sir           1\n",
       "Don           1\n",
       "Capt          1\n",
       "Dona          1\n",
       "Lady          1\n",
       "Jonkheer      1\n",
       "Name: title, dtype: int64"
      ]
     },
     "execution_count": 338,
     "metadata": {},
     "output_type": "execute_result"
    }
   ],
   "source": [
    "title = full.name.str.partition('.', True)[0]\n",
    "full['title'] = title.str.split().str.get(-1)\n",
    "\n",
    "full.title.value_counts()"
   ]
  },
  {
   "cell_type": "markdown",
   "metadata": {},
   "source": [
    "There are a lot of different title and some of them are very unique (only 1-2 occurances). Instead of looking at all these unique values we will bin them together based on common categories."
   ]
  },
  {
   "cell_type": "code",
   "execution_count": 339,
   "metadata": {},
   "outputs": [],
   "source": [
    "title_groups = {'Mr': 'Mr', \n",
    "                'Sir':['Master', 'Dr', 'Rev', 'Don', 'Sir', 'Jonkheer'],\n",
    "                'Miss':['Miss', 'Mrs', 'Ms', 'Mlle', 'Mme'],\n",
    "                'Madam':['Countess', 'Dona','Lady'],\n",
    "                'Military':['Col', 'Capt', 'Major']}\n",
    "\n",
    "full[\"title\"] = (\n",
    "    full[\"title\"]\n",
    "    .apply(lambda x: [k for k in title_groups.keys() if x in title_groups[k]])\n",
    "    .str[0]\n",
    "    .fillna(\"Other\")\n",
    ")\n",
    "\n",
    "full.drop(columns = 'name', inplace=True)"
   ]
  },
  {
   "cell_type": "markdown",
   "metadata": {},
   "source": [
    "Another feature that we will change is the age variable. Instead of focusing on the specific age, we will bin the ages into groups. This will make it easier to identify trends among general age ranges."
   ]
  },
  {
   "cell_type": "code",
   "execution_count": 340,
   "metadata": {},
   "outputs": [],
   "source": [
    "full['age_binned'] = pd.cut(x=full['age'], bins = [0, 2, 10, 19, 29, 39, 49, 59, 69, 79, 89], \n",
    "                                labels=['Toddler', 'Child', 'Teen', '20s', '30s', '40s', '50s', '60s', '70s', '80s'])"
   ]
  },
  {
   "cell_type": "markdown",
   "metadata": {},
   "source": [
    "Finally, we will create is family size. The 'parch' and 'sibsp' variables tell us the number of parents and siblings each passenger had onboard. Instead of evaluating these separately we will combine them together into a single variable. In order to save a step later, we will also drop the 'passengerid' variable as it just serves to identify each passenger in the dataset."
   ]
  },
  {
   "cell_type": "code",
   "execution_count": 341,
   "metadata": {},
   "outputs": [],
   "source": [
    "full['fsize'] = full['sibsp'] + full['parch'] + 1\n",
    "full.drop(columns = ['sibsp','parch','passengerid'], inplace=True)"
   ]
  },
  {
   "cell_type": "code",
   "execution_count": 342,
   "metadata": {},
   "outputs": [],
   "source": [
    "#### Add this above when we talk about it in the markdown file\n",
    "full.drop(columns = 'cabin', inplace=True)"
   ]
  },
  {
   "cell_type": "markdown",
   "metadata": {},
   "source": [
    "Now with our data cleaned up and missing values - except missing ages - filled in we will do some data exploration. In order to ensure that our model is built entirely upon the training data and the testing data is held out until the end (to avoid overfitting and cheating on the competition), we will just be exploring the training data.\n",
    "\n",
    "One of my hypotheses going into the project was that women and children would have a higher survival rate based on the old maritime adage of \"women and children first.\""
   ]
  },
  {
   "cell_type": "code",
   "execution_count": 252,
   "metadata": {},
   "outputs": [
    {
     "name": "stdout",
     "output_type": "stream",
     "text": [
      "sex     survived\n",
      "female  1.0         0.742038\n",
      "        0.0         0.257962\n",
      "male    0.0         0.811092\n",
      "        1.0         0.188908\n",
      "Name: survived, dtype: float64\n"
     ]
    },
    {
     "data": {
      "text/plain": [
       "<seaborn.axisgrid.FacetGrid at 0x7f928339e1c0>"
      ]
     },
     "execution_count": 252,
     "metadata": {},
     "output_type": "execute_result"
    },
    {
     "data": {
      "image/png": "[encoded data removed]",
      "text/plain": [
       "<Figure size 432x288 with 1 Axes>"
      ]
     },
     "metadata": {
      "needs_background": "light"
     },
     "output_type": "display_data"
    },
    {
     "data": {
      "image/png": "[encoded data removed]",
      "text/plain": [
       "<Figure size 430.5x360 with 1 Axes>"
      ]
     },
     "metadata": {
      "needs_background": "light"
     },
     "output_type": "display_data"
    }
   ],
   "source": [
    "testing = full[full.training == False]\n",
    "training = full[full.training == True]\n",
    "\n",
    "\n",
    "print(training.groupby('sex')['survived'].value_counts(normalize=True))\n",
    "\n",
    "sns.countplot(x='survived', hue='sex', data=training)\n",
    "\n",
    "(training\n",
    ".groupby('sex')['survived']\n",
    ".value_counts(normalize=True)\n",
    ".mul(100)\n",
    ".rename('percent')\n",
    ".reset_index()\n",
    ".pipe((sns.catplot,'data'), x='survived',y='percent',hue='sex',kind='bar'))"
   ]
  },
  {
   "cell_type": "markdown",
   "metadata": {},
   "source": [
    "Women had a much higher likelihood for surviving than men with over 80% of men dying compared to ~25% for women. What about age? Is there a pattern between survival based on age?"
   ]
  },
  {
   "cell_type": "code",
   "execution_count": 253,
   "metadata": {},
   "outputs": [
    {
     "data": {
      "text/plain": [
       "<seaborn.axisgrid.FacetGrid at 0x7f927dc717c0>"
      ]
     },
     "execution_count": 253,
     "metadata": {},
     "output_type": "execute_result"
    },
    {
     "data": {
      "image/png": "[encoded data removed]",
      "text/plain": [
       "<Figure size 772x360 with 2 Axes>"
      ]
     },
     "metadata": {
      "needs_background": "light"
     },
     "output_type": "display_data"
    },
    {
     "data": {
      "image/png": "[encoded data removed]",
      "text/plain": [
       "<Figure size 772x360 with 2 Axes>"
      ]
     },
     "metadata": {
      "needs_background": "light"
     },
     "output_type": "display_data"
    }
   ],
   "source": [
    "sns.catplot('age_binned', \n",
    "              hue='survived', \n",
    "              data=training, \n",
    "              col='sex',\n",
    "              kind='count')\n",
    "\n",
    "(training\n",
    ".groupby(['sex', 'age_binned'])['survived']\n",
    ".value_counts(normalize=True)\n",
    ".mul(100)\n",
    ".rename('Percent')\n",
    ".reset_index()\n",
    ".pipe((sns.catplot, 'data'), x='age_binned',y='Percent',hue='survived',col='sex',kind='bar'))"
   ]
  },
  {
   "cell_type": "markdown",
   "metadata": {},
   "source": [
    "For females the above graphs might come across as a little misleading initially. It appears that toddlers and children actually have the highest non-survival rate. However, on a nominal level they are very low (<10), meaning their rates are skewed by one or two deaths. In reality, there does not seem to be a distinguishable pattern with women. Most age bins had mortality rates ranging from 20-40% which is inline with the survival rate for all women.\n",
    "\n",
    "For males it is a different story. There is a clear jump in the survival rates for young males (toddlers and children). However, once we start looking at teens the survival rate drops to below 20% which is inline with the survival rate for all men.\n",
    "\n",
    "Looking at the data visually, it appears that females did have a higher survival rate. While males died at a higher rate, there was a higher survival rate for toddlers and children."
   ]
  },
  {
   "cell_type": "markdown",
   "metadata": {},
   "source": [
    "My other hypothesis was that there would be some positive relationship between wealth and survival. While the wealth is not explicitly given in the data we can use passenger class ('pclass') and ticket fare ('fare') as a proxy."
   ]
  },
  {
   "cell_type": "code",
   "execution_count": 254,
   "metadata": {},
   "outputs": [
    {
     "data": {
      "text/plain": [
       "<seaborn.axisgrid.FacetGrid at 0x7f9263c4bf40>"
      ]
     },
     "execution_count": 254,
     "metadata": {},
     "output_type": "execute_result"
    },
    {
     "data": {
      "image/png": "[encoded data removed]",
      "text/plain": [
       "<Figure size 772x360 with 2 Axes>"
      ]
     },
     "metadata": {
      "needs_background": "light"
     },
     "output_type": "display_data"
    },
    {
     "data": {
      "image/png": "[encoded data removed]",
      "text/plain": [
       "<Figure size 772x360 with 2 Axes>"
      ]
     },
     "metadata": {
      "needs_background": "light"
     },
     "output_type": "display_data"
    }
   ],
   "source": [
    "sns.catplot('pclass', \n",
    "              hue='survived', \n",
    "              data=training, \n",
    "              col='sex',\n",
    "              kind='count')\n",
    "\n",
    "(training\n",
    ".groupby(['sex', 'pclass'])['survived']\n",
    ".value_counts(normalize=True)\n",
    ".mul(100)\n",
    ".rename('Percent')\n",
    ".reset_index()\n",
    ".pipe((sns.catplot, 'data'), x='pclass',y='Percent',hue='survived',col='sex',kind='bar'))"
   ]
  },
  {
   "cell_type": "markdown",
   "metadata": {},
   "source": [
    "According to the graphs, there is a fairly strong relationship between passenger class and survival. The overwhelming majority of passengers that died were 3rd class males (they were also the largest total category too). On a percentage basis both males and females show higher death rates in the higher classes. This is most evident in 3rd class women; where, the death rate is ~50%, significantly higher than ~25% death rate for all women."
   ]
  },
  {
   "cell_type": "markdown",
   "metadata": {},
   "source": [
    "Let's dig into fares. First lets gain a better understanding of fares. The obvious guess is that fares are associated with class (e.g. higher classes equals higher fares). Let's confirm that."
   ]
  },
  {
   "cell_type": "code",
   "execution_count": 255,
   "metadata": {},
   "outputs": [
    {
     "data": {
      "text/plain": [
       "<seaborn.axisgrid.FacetGrid at 0x7f9263a27220>"
      ]
     },
     "execution_count": 255,
     "metadata": {},
     "output_type": "execute_result"
    },
    {
     "data": {
      "image/png": "[encoded data removed]",
      "text/plain": [
       "<Figure size 360x360 with 1 Axes>"
      ]
     },
     "metadata": {
      "needs_background": "light"
     },
     "output_type": "display_data"
    },
    {
     "data": {
      "image/png": "[encoded data removed]",
      "text/plain": [
       "<Figure size 360x360 with 1 Axes>"
      ]
     },
     "metadata": {
      "needs_background": "light"
     },
     "output_type": "display_data"
    }
   ],
   "source": [
    "sns.catplot(x='pclass', y='fare', data=training, kind='box')\n",
    "sns.catplot(x='pclass', y='fare', data=training, kind='point')"
   ]
  },
  {
   "cell_type": "markdown",
   "metadata": {},
   "source": [
    "While there is some overlap among outliers, there is a clear negative relationship between prices and passenger class. Lower classes (2nd and 3rd) have significantly lower fares than the upper class."
   ]
  },
  {
   "cell_type": "code",
   "execution_count": 256,
   "metadata": {},
   "outputs": [
    {
     "data": {
      "text/plain": [
       "<seaborn.axisgrid.FacetGrid at 0x7f927fe5d610>"
      ]
     },
     "execution_count": 256,
     "metadata": {},
     "output_type": "execute_result"
    },
    {
     "data": {
      "image/png": "[encoded data removed]",
      "text/plain": [
       "<Figure size 772x360 with 2 Axes>"
      ]
     },
     "metadata": {
      "needs_background": "light"
     },
     "output_type": "display_data"
    },
    {
     "data": {
      "image/png": "[encoded data removed]",
      "text/plain": [
       "<Figure size 772x360 with 2 Axes>"
      ]
     },
     "metadata": {
      "needs_background": "light"
     },
     "output_type": "display_data"
    },
    {
     "data": {
      "image/png": "[encoded data removed]",
      "text/plain": [
       "<Figure size 430.5x360 with 1 Axes>"
      ]
     },
     "metadata": {
      "needs_background": "light"
     },
     "output_type": "display_data"
    }
   ],
   "source": [
    "sns.catplot(x='pclass', y='fare', hue='survived', col='sex', data=training, kind='box')\n",
    "sns.catplot(x='pclass', y='fare', hue='survived', col='sex', data=training, kind='point')\n",
    "sns.catplot(x='survived', y='fare', hue='sex', data=training, kind='point')"
   ]
  },
  {
   "cell_type": "markdown",
   "metadata": {},
   "source": [
    "After observing the close relationship between fare and class, it is not surprising that higher fares are associated with higher survivability. "
   ]
  },
  {
   "cell_type": "markdown",
   "metadata": {},
   "source": [
    "Another variable that will likely have some association with wealth is title."
   ]
  },
  {
   "cell_type": "code",
   "execution_count": 257,
   "metadata": {},
   "outputs": [
    {
     "data": {
      "image/png": "[encoded data removed]",
      "text/plain": [
       "<Figure size 1080x360 with 3 Axes>"
      ]
     },
     "metadata": {
      "needs_background": "light"
     },
     "output_type": "display_data"
    },
    {
     "data": {
      "text/plain": [
       "<seaborn.axisgrid.FacetGrid at 0x7f9264cb5880>"
      ]
     },
     "execution_count": 257,
     "metadata": {},
     "output_type": "execute_result"
    },
    {
     "data": {
      "image/png": "[encoded data removed]",
      "text/plain": [
       "<Figure size 432x288 with 1 Axes>"
      ]
     },
     "metadata": {
      "needs_background": "light"
     },
     "output_type": "display_data"
    },
    {
     "data": {
      "image/png": "[encoded data removed]",
      "text/plain": [
       "<Figure size 412x360 with 1 Axes>"
      ]
     },
     "metadata": {
      "needs_background": "light"
     },
     "output_type": "display_data"
    }
   ],
   "source": [
    "sns.catplot(x='title', col='pclass', data=training, kind='count')\n",
    "plt.show()\n",
    "sns.countplot(x='title', hue='survived', data=training)\n",
    "\n",
    "(training\n",
    ".groupby('title')['survived']\n",
    ".value_counts(normalize=True)\n",
    ".mul(100)\n",
    ".rename('Percent')\n",
    ".reset_index()\n",
    ".pipe((sns.catplot, 'data'), x='title',y='Percent',hue='survived',kind='bar'))"
   ]
  },
  {
   "cell_type": "markdown",
   "metadata": {},
   "source": [
    "The pattern of wealth and higher chances of surviving continue with titles. Females continue to have a relatively high survival rate (>60%). Men just with 'Mr' have a low survivability rate, while 'Sirs' have a higher. Military title - a possible sign of members of the crew - have a survival rate of around 40%. \n",
    "\n",
    "One surprising point was that aside from 'Mr' having a high number of passenger in 3rd class even names with a signal of nobility (e.g. Sir) where fairly evenly split between classes."
   ]
  },
  {
   "cell_type": "markdown",
   "metadata": {},
   "source": [
    "The last variable we will look at is the one we created, family size."
   ]
  },
  {
   "cell_type": "code",
   "execution_count": 258,
   "metadata": {},
   "outputs": [
    {
     "data": {
      "image/png": "[encoded data removed]",
      "text/plain": [
       "<Figure size 360x360 with 1 Axes>"
      ]
     },
     "metadata": {
      "needs_background": "light"
     },
     "output_type": "display_data"
    },
    {
     "data": {
      "image/png": "[encoded data removed]",
      "text/plain": [
       "<Figure size 1080x360 with 3 Axes>"
      ]
     },
     "metadata": {
      "needs_background": "light"
     },
     "output_type": "display_data"
    },
    {
     "data": {
      "text/plain": [
       "<matplotlib.axes._subplots.AxesSubplot at 0x7f92655ff340>"
      ]
     },
     "execution_count": 258,
     "metadata": {},
     "output_type": "execute_result"
    },
    {
     "data": {
      "image/png": "[encoded data removed]",
      "text/plain": [
       "<Figure size 432x288 with 1 Axes>"
      ]
     },
     "metadata": {
      "needs_background": "light"
     },
     "output_type": "display_data"
    }
   ],
   "source": [
    "sns.catplot(x='fsize', y='age', data=training, kind='box')\n",
    "plt.show()\n",
    "\n",
    "sns.catplot(x='fsize', col='pclass', data=training, kind='count')\n",
    "plt.show()\n",
    "\n",
    "sns.countplot(x='fsize', hue='survived', data=training)"
   ]
  },
  {
   "cell_type": "markdown",
   "metadata": {},
   "source": [
    "The age range for family sizes moves down, implying that larger families have more kids. Additionally, there does appear to be more families in third class. One unfortunate trend is that larger families still had still faced deaths even with their lower ages."
   ]
  },
  {
   "cell_type": "markdown",
   "metadata": {},
   "source": [
    "I have decided to try 5 different models for this classification problem. We will train a K-nearest neighbors, a logistic regression (with an elastic net penalty), a random forest, a gradient boosted decision tree, and a support vector machine (one with a linear kernal and one with a polynomial kernel).\n",
    "\n",
    "I will test each model with using a basic grid search for their parameters and use 5 cross-fold validation in an attempt to lower overfitting.\n",
    "\n",
    "To start I will be predicting my target variable - 'survived' - with the predictor variables of: 'sex', 'fare', 'pclass', 'title', 'age_binned', and 'fsize.' At this point only age_binned is missing certain variables. I will use KNN imputation to fill in the missing data as it is slightly more robust than just using the median and/or mean. KNN imputation will factor in the family size, sex, passenger class, and fare to help predict the age for missing values."
   ]
  },
  {
   "cell_type": "code",
   "execution_count": 345,
   "metadata": {},
   "outputs": [],
   "source": [
    "full = full[['embarked', 'fare', 'pclass', 'sex', 'title', 'age_binned', 'fsize', 'survived']]"
   ]
  },
  {
   "cell_type": "code",
   "execution_count": 432,
   "metadata": {},
   "outputs": [],
   "source": [
    "training = full[trainingid]\n",
    "testing = full[~trainingid]"
   ]
  },
  {
   "cell_type": "code",
   "execution_count": 433,
   "metadata": {},
   "outputs": [],
   "source": [
    "from sklearn.compose import ColumnTransformer\n",
    "from sklearn.preprocessing import OneHotEncoder\n",
    "from sklearn.impute import SimpleImputer\n",
    "\n",
    "training_predictor = training.survived\n",
    "training_feature = training.drop(columns=['survived'])\n",
    "\n",
    "imp = SimpleImputer(strategy=\"most_frequent\")\n",
    "training_feature = imp.fit_transform(training_feature)\n",
    "\n",
    "columnTransformer = ColumnTransformer([('encoder', OneHotEncoder(categories='auto'), [0,3,4,5])],\n",
    "                                       remainder = 'passthrough')\n",
    "training_feature = np.array(columnTransformer.fit_transform(training_feature))"
   ]
  },
  {
   "cell_type": "code",
   "execution_count": 434,
   "metadata": {},
   "outputs": [],
   "source": [
    "from sklearn.model_selection import train_test_split\n",
    "\n",
    "X_train, X_test, y_train, y_test = train_test_split(training_feature, training_predictor, test_size=0.3,\n",
    "random_state=42, stratify=training_predictor)"
   ]
  },
  {
   "cell_type": "code",
   "execution_count": 450,
   "metadata": {},
   "outputs": [
    {
     "name": "stderr",
     "output_type": "stream",
     "text": [
      "/Users/Nick/opt/anaconda3/lib/python3.8/site-packages/sklearn/svm/_base.py:976: ConvergenceWarning: Liblinear failed to converge, increase the number of iterations.\n",
      "  warnings.warn(\"Liblinear failed to converge, increase \"\n",
      "/Users/Nick/opt/anaconda3/lib/python3.8/site-packages/sklearn/svm/_base.py:976: ConvergenceWarning: Liblinear failed to converge, increase the number of iterations.\n",
      "  warnings.warn(\"Liblinear failed to converge, increase \"\n",
      "/Users/Nick/opt/anaconda3/lib/python3.8/site-packages/sklearn/svm/_base.py:976: ConvergenceWarning: Liblinear failed to converge, increase the number of iterations.\n",
      "  warnings.warn(\"Liblinear failed to converge, increase \"\n",
      "/Users/Nick/opt/anaconda3/lib/python3.8/site-packages/sklearn/svm/_base.py:976: ConvergenceWarning: Liblinear failed to converge, increase the number of iterations.\n",
      "  warnings.warn(\"Liblinear failed to converge, increase \"\n",
      "/Users/Nick/opt/anaconda3/lib/python3.8/site-packages/sklearn/svm/_base.py:976: ConvergenceWarning: Liblinear failed to converge, increase the number of iterations.\n",
      "  warnings.warn(\"Liblinear failed to converge, increase \"\n",
      "/Users/Nick/opt/anaconda3/lib/python3.8/site-packages/sklearn/svm/_base.py:976: ConvergenceWarning: Liblinear failed to converge, increase the number of iterations.\n",
      "  warnings.warn(\"Liblinear failed to converge, increase \"\n",
      "/Users/Nick/opt/anaconda3/lib/python3.8/site-packages/sklearn/svm/_base.py:976: ConvergenceWarning: Liblinear failed to converge, increase the number of iterations.\n",
      "  warnings.warn(\"Liblinear failed to converge, increase \"\n",
      "/Users/Nick/opt/anaconda3/lib/python3.8/site-packages/sklearn/svm/_base.py:976: ConvergenceWarning: Liblinear failed to converge, increase the number of iterations.\n",
      "  warnings.warn(\"Liblinear failed to converge, increase \"\n",
      "/Users/Nick/opt/anaconda3/lib/python3.8/site-packages/sklearn/svm/_base.py:976: ConvergenceWarning: Liblinear failed to converge, increase the number of iterations.\n",
      "  warnings.warn(\"Liblinear failed to converge, increase \"\n",
      "/Users/Nick/opt/anaconda3/lib/python3.8/site-packages/sklearn/svm/_base.py:976: ConvergenceWarning: Liblinear failed to converge, increase the number of iterations.\n",
      "  warnings.warn(\"Liblinear failed to converge, increase \"\n",
      "/Users/Nick/opt/anaconda3/lib/python3.8/site-packages/sklearn/svm/_base.py:976: ConvergenceWarning: Liblinear failed to converge, increase the number of iterations.\n",
      "  warnings.warn(\"Liblinear failed to converge, increase \"\n",
      "/Users/Nick/opt/anaconda3/lib/python3.8/site-packages/sklearn/svm/_base.py:976: ConvergenceWarning: Liblinear failed to converge, increase the number of iterations.\n",
      "  warnings.warn(\"Liblinear failed to converge, increase \"\n",
      "/Users/Nick/opt/anaconda3/lib/python3.8/site-packages/sklearn/svm/_base.py:976: ConvergenceWarning: Liblinear failed to converge, increase the number of iterations.\n",
      "  warnings.warn(\"Liblinear failed to converge, increase \"\n",
      "/Users/Nick/opt/anaconda3/lib/python3.8/site-packages/sklearn/svm/_base.py:976: ConvergenceWarning: Liblinear failed to converge, increase the number of iterations.\n",
      "  warnings.warn(\"Liblinear failed to converge, increase \"\n",
      "/Users/Nick/opt/anaconda3/lib/python3.8/site-packages/sklearn/svm/_base.py:976: ConvergenceWarning: Liblinear failed to converge, increase the number of iterations.\n",
      "  warnings.warn(\"Liblinear failed to converge, increase \"\n",
      "/Users/Nick/opt/anaconda3/lib/python3.8/site-packages/sklearn/svm/_base.py:976: ConvergenceWarning: Liblinear failed to converge, increase the number of iterations.\n",
      "  warnings.warn(\"Liblinear failed to converge, increase \"\n",
      "/Users/Nick/opt/anaconda3/lib/python3.8/site-packages/sklearn/svm/_base.py:976: ConvergenceWarning: Liblinear failed to converge, increase the number of iterations.\n",
      "  warnings.warn(\"Liblinear failed to converge, increase \"\n",
      "/Users/Nick/opt/anaconda3/lib/python3.8/site-packages/sklearn/svm/_base.py:976: ConvergenceWarning: Liblinear failed to converge, increase the number of iterations.\n",
      "  warnings.warn(\"Liblinear failed to converge, increase \"\n",
      "/Users/Nick/opt/anaconda3/lib/python3.8/site-packages/sklearn/svm/_base.py:976: ConvergenceWarning: Liblinear failed to converge, increase the number of iterations.\n",
      "  warnings.warn(\"Liblinear failed to converge, increase \"\n",
      "/Users/Nick/opt/anaconda3/lib/python3.8/site-packages/sklearn/svm/_base.py:976: ConvergenceWarning: Liblinear failed to converge, increase the number of iterations.\n",
      "  warnings.warn(\"Liblinear failed to converge, increase \"\n",
      "/Users/Nick/opt/anaconda3/lib/python3.8/site-packages/sklearn/svm/_base.py:976: ConvergenceWarning: Liblinear failed to converge, increase the number of iterations.\n",
      "  warnings.warn(\"Liblinear failed to converge, increase \"\n",
      "/Users/Nick/opt/anaconda3/lib/python3.8/site-packages/sklearn/svm/_base.py:976: ConvergenceWarning: Liblinear failed to converge, increase the number of iterations.\n",
      "  warnings.warn(\"Liblinear failed to converge, increase \"\n",
      "/Users/Nick/opt/anaconda3/lib/python3.8/site-packages/sklearn/svm/_base.py:976: ConvergenceWarning: Liblinear failed to converge, increase the number of iterations.\n",
      "  warnings.warn(\"Liblinear failed to converge, increase \"\n",
      "/Users/Nick/opt/anaconda3/lib/python3.8/site-packages/sklearn/svm/_base.py:976: ConvergenceWarning: Liblinear failed to converge, increase the number of iterations.\n",
      "  warnings.warn(\"Liblinear failed to converge, increase \"\n",
      "/Users/Nick/opt/anaconda3/lib/python3.8/site-packages/sklearn/svm/_base.py:976: ConvergenceWarning: Liblinear failed to converge, increase the number of iterations.\n",
      "  warnings.warn(\"Liblinear failed to converge, increase \"\n",
      "/Users/Nick/opt/anaconda3/lib/python3.8/site-packages/sklearn/svm/_base.py:976: ConvergenceWarning: Liblinear failed to converge, increase the number of iterations.\n",
      "  warnings.warn(\"Liblinear failed to converge, increase \"\n",
      "/Users/Nick/opt/anaconda3/lib/python3.8/site-packages/sklearn/svm/_base.py:976: ConvergenceWarning: Liblinear failed to converge, increase the number of iterations.\n",
      "  warnings.warn(\"Liblinear failed to converge, increase \"\n",
      "/Users/Nick/opt/anaconda3/lib/python3.8/site-packages/sklearn/svm/_base.py:976: ConvergenceWarning: Liblinear failed to converge, increase the number of iterations.\n",
      "  warnings.warn(\"Liblinear failed to converge, increase \"\n",
      "/Users/Nick/opt/anaconda3/lib/python3.8/site-packages/sklearn/svm/_base.py:976: ConvergenceWarning: Liblinear failed to converge, increase the number of iterations.\n",
      "  warnings.warn(\"Liblinear failed to converge, increase \"\n",
      "/Users/Nick/opt/anaconda3/lib/python3.8/site-packages/sklearn/svm/_base.py:976: ConvergenceWarning: Liblinear failed to converge, increase the number of iterations.\n",
      "  warnings.warn(\"Liblinear failed to converge, increase \"\n",
      "/Users/Nick/opt/anaconda3/lib/python3.8/site-packages/sklearn/svm/_base.py:976: ConvergenceWarning: Liblinear failed to converge, increase the number of iterations.\n",
      "  warnings.warn(\"Liblinear failed to converge, increase \"\n",
      "/Users/Nick/opt/anaconda3/lib/python3.8/site-packages/sklearn/svm/_base.py:976: ConvergenceWarning: Liblinear failed to converge, increase the number of iterations.\n",
      "  warnings.warn(\"Liblinear failed to converge, increase \"\n",
      "/Users/Nick/opt/anaconda3/lib/python3.8/site-packages/sklearn/svm/_base.py:976: ConvergenceWarning: Liblinear failed to converge, increase the number of iterations.\n",
      "  warnings.warn(\"Liblinear failed to converge, increase \"\n",
      "/Users/Nick/opt/anaconda3/lib/python3.8/site-packages/sklearn/svm/_base.py:976: ConvergenceWarning: Liblinear failed to converge, increase the number of iterations.\n",
      "  warnings.warn(\"Liblinear failed to converge, increase \"\n",
      "/Users/Nick/opt/anaconda3/lib/python3.8/site-packages/sklearn/svm/_base.py:976: ConvergenceWarning: Liblinear failed to converge, increase the number of iterations.\n",
      "  warnings.warn(\"Liblinear failed to converge, increase \"\n",
      "/Users/Nick/opt/anaconda3/lib/python3.8/site-packages/sklearn/svm/_base.py:976: ConvergenceWarning: Liblinear failed to converge, increase the number of iterations.\n",
      "  warnings.warn(\"Liblinear failed to converge, increase \"\n",
      "/Users/Nick/opt/anaconda3/lib/python3.8/site-packages/sklearn/svm/_base.py:976: ConvergenceWarning: Liblinear failed to converge, increase the number of iterations.\n",
      "  warnings.warn(\"Liblinear failed to converge, increase \"\n",
      "/Users/Nick/opt/anaconda3/lib/python3.8/site-packages/sklearn/svm/_base.py:976: ConvergenceWarning: Liblinear failed to converge, increase the number of iterations.\n",
      "  warnings.warn(\"Liblinear failed to converge, increase \"\n",
      "/Users/Nick/opt/anaconda3/lib/python3.8/site-packages/sklearn/svm/_base.py:976: ConvergenceWarning: Liblinear failed to converge, increase the number of iterations.\n",
      "  warnings.warn(\"Liblinear failed to converge, increase \"\n",
      "/Users/Nick/opt/anaconda3/lib/python3.8/site-packages/sklearn/svm/_base.py:976: ConvergenceWarning: Liblinear failed to converge, increase the number of iterations.\n",
      "  warnings.warn(\"Liblinear failed to converge, increase \"\n",
      "/Users/Nick/opt/anaconda3/lib/python3.8/site-packages/sklearn/svm/_base.py:976: ConvergenceWarning: Liblinear failed to converge, increase the number of iterations.\n",
      "  warnings.warn(\"Liblinear failed to converge, increase \"\n",
      "/Users/Nick/opt/anaconda3/lib/python3.8/site-packages/sklearn/svm/_base.py:976: ConvergenceWarning: Liblinear failed to converge, increase the number of iterations.\n",
      "  warnings.warn(\"Liblinear failed to converge, increase \"\n",
      "/Users/Nick/opt/anaconda3/lib/python3.8/site-packages/sklearn/svm/_base.py:976: ConvergenceWarning: Liblinear failed to converge, increase the number of iterations.\n",
      "  warnings.warn(\"Liblinear failed to converge, increase \"\n",
      "/Users/Nick/opt/anaconda3/lib/python3.8/site-packages/sklearn/svm/_base.py:976: ConvergenceWarning: Liblinear failed to converge, increase the number of iterations.\n",
      "  warnings.warn(\"Liblinear failed to converge, increase \"\n",
      "/Users/Nick/opt/anaconda3/lib/python3.8/site-packages/sklearn/svm/_base.py:976: ConvergenceWarning: Liblinear failed to converge, increase the number of iterations.\n",
      "  warnings.warn(\"Liblinear failed to converge, increase \"\n",
      "/Users/Nick/opt/anaconda3/lib/python3.8/site-packages/sklearn/svm/_base.py:976: ConvergenceWarning: Liblinear failed to converge, increase the number of iterations.\n",
      "  warnings.warn(\"Liblinear failed to converge, increase \"\n",
      "/Users/Nick/opt/anaconda3/lib/python3.8/site-packages/sklearn/svm/_base.py:976: ConvergenceWarning: Liblinear failed to converge, increase the number of iterations.\n",
      "  warnings.warn(\"Liblinear failed to converge, increase \"\n",
      "/Users/Nick/opt/anaconda3/lib/python3.8/site-packages/sklearn/svm/_base.py:976: ConvergenceWarning: Liblinear failed to converge, increase the number of iterations.\n",
      "  warnings.warn(\"Liblinear failed to converge, increase \"\n",
      "/Users/Nick/opt/anaconda3/lib/python3.8/site-packages/sklearn/svm/_base.py:976: ConvergenceWarning: Liblinear failed to converge, increase the number of iterations.\n",
      "  warnings.warn(\"Liblinear failed to converge, increase \"\n",
      "/Users/Nick/opt/anaconda3/lib/python3.8/site-packages/sklearn/svm/_base.py:976: ConvergenceWarning: Liblinear failed to converge, increase the number of iterations.\n",
      "  warnings.warn(\"Liblinear failed to converge, increase \"\n"
     ]
    },
    {
     "name": "stdout",
     "output_type": "stream",
     "text": [
      "Best params:\n",
      "{'classifier': GradientBoostingClassifier(), 'preprocessing': StandardScaler()}\n",
      "\n",
      "Best cross-validation score: 0.84\n",
      "Test-set score: 0.81\n"
     ]
    }
   ],
   "source": [
    "from sklearn.neighbors import KNeighborsClassifier\n",
    "from sklearn.linear_model import LogisticRegression\n",
    "from sklearn.svm import LinearSVC\n",
    "from sklearn.ensemble import RandomForestClassifier\n",
    "from sklearn.ensemble import GradientBoostingClassifier\n",
    "from sklearn.pipeline import Pipeline\n",
    "from sklearn.model_selection import GridSearchCV\n",
    "from sklearn.preprocessing import StandardScaler\n",
    "\n",
    "pipe = Pipeline([('preprocessing', StandardScaler()), \n",
    "                ('classifier', KNeighborsClassifier())])\n",
    "\n",
    "param_grid = [\n",
    "    {'classifier': [KNeighborsClassifier()], 'preprocessing': [StandardScaler(), None],\n",
    "    'classifier__n_neighbors': [1,2,3,4,5,6,7,8,9,10]},\n",
    "    {'classifier': [LogisticRegression(max_iter=10000)], 'preprocessing': [StandardScaler(), None],\n",
    "    'classifier__C': [0.01,0.1,1,10,100,1000]},\n",
    "    {'classifier': [LinearSVC()], 'preprocessing': [StandardScaler(), None],\n",
    "    'classifier__C': [0.01,0.1,1,10,100,1000]},\n",
    "    {'classifier': [RandomForestClassifier()], 'preprocessing': [StandardScaler(),None]},\n",
    "    {'classifier': [GradientBoostingClassifier()], 'preprocessing': [StandardScaler(), None]}\n",
    "]\n",
    "\n",
    "grid = GridSearchCV(pipe, param_grid, cv=5, scoring='accuracy')\n",
    "grid.fit(X_train, y_train)\n",
    "\n",
    "print('Best params:\\n{}\\n'.format(grid.best_params_))\n",
    "print('Best cross-validation score: {:.2f}'.format(grid.best_score_))\n",
    "print('Test-set score: {:.2f}'.format(grid.score(X_test, y_test)))\n"
   ]
  },
  {
   "cell_type": "code",
   "execution_count": 411,
   "metadata": {},
   "outputs": [
    {
     "name": "stdout",
     "output_type": "stream",
     "text": [
      "Best params:\n",
      "{'learning_rate': 0.25, 'n_estimators': 50}\n",
      "\n",
      "Best cross-validation score: 0.85\n",
      "Test-set score: 0.82\n"
     ]
    }
   ],
   "source": [
    "gb = GradientBoostingClassifier()\n",
    "\n",
    "gb_grid = {'learning_rate':[1, 0.5, 0.25, 0.125, 0.6, 0.3, 0.1, 0.01, 0.001], \n",
    "           'n_estimators':[25, 50, 75, 100, 125]}\n",
    "\n",
    "gb_gs = GridSearchCV(gb, gb_grid, cv=5, scoring='accuracy')\n",
    "\n",
    "gb_gs.fit(X_train, y_train)\n",
    "\n",
    "print('Best params:\\n{}\\n'.format(gb_gs.best_params_))\n",
    "print('Best cross-validation score: {:.2f}'.format(gb_gs.best_score_))\n",
    "print('Test-set score: {:.2f}'.format(gb_gs.score(X_test, y_test)))"
   ]
  },
  {
   "cell_type": "code",
   "execution_count": 435,
   "metadata": {},
   "outputs": [
    {
     "data": {
      "text/plain": [
       "GradientBoostingClassifier(learning_rate=0.25, n_estimators=50)"
      ]
     },
     "execution_count": 435,
     "metadata": {},
     "output_type": "execute_result"
    }
   ],
   "source": [
    "best_gb = GradientBoostingClassifier(learning_rate=0.25, n_estimators=50)\n",
    "\n",
    "best_gb.fit(training_feature, training_predictor)\n"
   ]
  },
  {
   "cell_type": "code",
   "execution_count": 436,
   "metadata": {},
   "outputs": [],
   "source": [
    "testing = testing.drop(columns='survived')\n",
    "testing = imp.fit_transform(testing)\n",
    "testing = np.array(columnTransformer.transform(testing))\n",
    "\n",
    "model_prediction = best_gb.predict(testing)"
   ]
  },
  {
   "cell_type": "code",
   "execution_count": 448,
   "metadata": {},
   "outputs": [],
   "source": [
    "submission = pd.DataFrame(data=model_prediction, columns=['Survived'])\n",
    "submission['PassengerId'] = [*range(892,1310)]\n",
    "submission= submission[['PassengerId', 'Survived']]\n",
    "submission.to_csv('submssion.csv')"
   ]
  },
  {
   "cell_type": "code",
   "execution_count": 311,
   "metadata": {},
   "outputs": [
    {
     "name": "stdout",
     "output_type": "stream",
     "text": [
      "Training set score: 0.81\n",
      "Test set accuracy: 0.80\n"
     ]
    },
    {
     "name": "stderr",
     "output_type": "stream",
     "text": [
      "/Users/Nick/opt/anaconda3/lib/python3.8/site-packages/sklearn/linear_model/_logistic.py:762: ConvergenceWarning: lbfgs failed to converge (status=1):\n",
      "STOP: TOTAL NO. of ITERATIONS REACHED LIMIT.\n",
      "\n",
      "Increase the number of iterations (max_iter) or scale the data as shown in:\n",
      "    https://scikit-learn.org/stable/modules/preprocessing.html\n",
      "Please also refer to the documentation for alternative solver options:\n",
      "    https://scikit-learn.org/stable/modules/linear_model.html#logistic-regression\n",
      "  n_iter_i = _check_optimize_result(\n"
     ]
    }
   ],
   "source": [
    "from sklearn.linear_model import LogisticRegression\n",
    "lgr = LogisticRegression()\n",
    "lgr.fit(X_train, y_train)\n",
    "print(\"Training set score: {:.2f}\".format(lgr.score(X_train, y_train)))\n",
    "print(\"Test set accuracy: {:.2f}\".format(lgr.score(X_test, y_test)))"
   ]
  },
  {
   "cell_type": "code",
   "execution_count": 313,
   "metadata": {},
   "outputs": [
    {
     "name": "stdout",
     "output_type": "stream",
     "text": [
      "Training set score: 0.81\n",
      "Test set accuracy: 0.79\n"
     ]
    },
    {
     "name": "stderr",
     "output_type": "stream",
     "text": [
      "/Users/Nick/opt/anaconda3/lib/python3.8/site-packages/sklearn/svm/_base.py:976: ConvergenceWarning: Liblinear failed to converge, increase the number of iterations.\n",
      "  warnings.warn(\"Liblinear failed to converge, increase \"\n"
     ]
    }
   ],
   "source": [
    "from sklearn.svm import LinearSVC\n",
    "linear_svm = LinearSVC()\n",
    "linear_svm.fit(X_train, y_train)\n",
    "print(\"Training set score: {:.2f}\".format(linear_svm.score(X_train, y_train)))\n",
    "print(\"Test set accuracy: {:.2f}\".format(linear_svm.score(X_test, y_test)))"
   ]
  },
  {
   "cell_type": "code",
   "execution_count": 314,
   "metadata": {},
   "outputs": [
    {
     "name": "stdout",
     "output_type": "stream",
     "text": [
      "Training set score: 0.96\n",
      "Test set accuracy: 0.78\n"
     ]
    }
   ],
   "source": [
    "from sklearn.ensemble import RandomForestClassifier\n",
    "forest = RandomForestClassifier()\n",
    "forest.fit(X_train, y_train)\n",
    "print(\"Training set score: {:.2f}\".format(forest.score(X_train, y_train)))\n",
    "print(\"Test set accuracy: {:.2f}\".format(forest.score(X_test, y_test)))"
   ]
  },
  {
   "cell_type": "code",
   "execution_count": 317,
   "metadata": {},
   "outputs": [
    {
     "name": "stdout",
     "output_type": "stream",
     "text": [
      "Training set score: 0.90\n",
      "Test set accuracy: 0.82\n"
     ]
    }
   ],
   "source": [
    "from sklearn.ensemble import GradientBoostingClassifier\n",
    "gbrt = GradientBoostingClassifier()\n",
    "gbrt.fit(X_train, y_train)\n",
    "print(\"Training set score: {:.2f}\".format(gbrt.score(X_train, y_train)))\n",
    "print(\"Test set accuracy: {:.2f}\".format(gbrt.score(X_test, y_test)))"
   ]
  },
  {
   "cell_type": "code",
   "execution_count": null,
   "metadata": {},
   "outputs": [],
   "source": []
  }
 ],
 "metadata": {
  "kernelspec": {
   "display_name": "Python 3",
   "language": "python",
   "name": "python3"
  },
  "language_info": {
   "codemirror_mode": {
    "name": "ipython",
    "version": 3
   },
   "file_extension": ".py",
   "mimetype": "text/x-python",
   "name": "python",
   "nbconvert_exporter": "python",
   "pygments_lexer": "ipython3",
   "version": "3.8.3"
  }
 },
 "nbformat": 4,
 "nbformat_minor": 4
}
